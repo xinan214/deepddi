{
 "cells": [
  {
   "cell_type": "code",
   "execution_count": null,
   "outputs": [],
   "source": [
    "import os\n",
    "import glob\n",
    "import pickle\n",
    "import copy\n",
    "import argparse\n",
    "import itertools\n",
    "import pandas as pd\n",
    "import time\n",
    "from rdkit import DataStructs\n",
    "from rdkit.Chem import AllChem\n",
    "from rdkit import Chem\n",
    "import tqdm"
   ],
   "metadata": {
    "collapsed": false,
    "pycharm": {
     "is_executing": true
    }
   }
  },
  {
   "cell_type": "code",
   "execution_count": null,
   "outputs": [],
   "source": [
    "def parse_DDI_input_file(input_file, output_file):\n",
    "    drug_pair_info = {}\n",
    "    drug_smiles_info = {}\n",
    "    with open(input_file, 'r') as fp:\n",
    "        for line in fp:\n",
    "            sptlist = line.strip().split('\\t')\n",
    "            prescription = sptlist[0].strip()\n",
    "            drug_name = sptlist[1].strip()\n",
    "            smiles = sptlist[2].strip()\n",
    "\n",
    "            drug_smiles_info[(prescription, drug_name)] = smiles\n",
    "            # 0\tdrug d(vitamin c)\t[H][C@@]1(OC(=O)C(O)=C1O)[C@@H](O)CO\n",
    "            # 0\tlemon(cholesterol)\tCC(C)CCCC(C)C1CCC2C3CC=C4CC(O)CCC4(C)C3CCC12C\n",
    "\n",
    "            # --> 0: drug d(vitamin c),lemon(cholesterol)\n",
    "            if prescription not in drug_pair_info:\n",
    "                drug_pair_info[prescription] = [drug_name]\n",
    "            else:\n",
    "                drug_pair_info[prescription].append(drug_name)\n",
    "\n",
    "\n",
    "    out_fp = open(output_file, 'w')\n",
    "    for each_prescription in drug_pair_info:\n",
    "        drug_names = drug_pair_info[each_prescription]\n",
    "        for each_set in itertools.combinations(drug_names, 2):\n",
    "            drug1 = each_set[0].strip()\n",
    "            drug1_smiles = drug_smiles_info[(each_prescription, drug1)]\n",
    "\n",
    "            drug2 = each_set[1].strip()\n",
    "            drug2_smiles = drug_smiles_info[(each_prescription, drug2)]\n",
    "            out_fp.write('%s\\t%s\\t%s\\t%s\\t%s\\n'%(each_prescription, drug1, drug1_smiles, drug2, drug2_smiles))\n",
    "    out_fp.close()\n",
    "    return"
   ],
   "metadata": {
    "collapsed": false
   }
  },
  {
   "cell_type": "code",
   "execution_count": null,
   "outputs": [],
   "source": [
    "parse_DDI_input_file('data/parsed_input.txt', 'test/DDI_input.txt')"
   ],
   "metadata": {
    "collapsed": false
   }
  }
 ],
 "metadata": {
  "kernelspec": {
   "display_name": "Python 3",
   "language": "python",
   "name": "python3"
  },
  "language_info": {
   "codemirror_mode": {
    "name": "ipython",
    "version": 2
   },
   "file_extension": ".py",
   "mimetype": "text/x-python",
   "name": "python",
   "nbconvert_exporter": "python",
   "pygments_lexer": "ipython2",
   "version": "2.7.6"
  }
 },
 "nbformat": 4,
 "nbformat_minor": 0
}
